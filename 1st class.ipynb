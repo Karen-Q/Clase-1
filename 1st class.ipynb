{
 "cells": [
  {
   "cell_type": "markdown",
   "metadata": {},
   "source": [
    "### PRIMERA CLASE"
   ]
  },
  {
   "cell_type": "code",
   "execution_count": 1,
   "metadata": {},
   "outputs": [
    {
     "name": "stdout",
     "output_type": "stream",
     "text": [
      "Hello world\n"
     ]
    }
   ],
   "source": [
    "print(\"Hello world\")"
   ]
  },
  {
   "cell_type": "code",
   "execution_count": 2,
   "metadata": {},
   "outputs": [
    {
     "name": "stdout",
     "output_type": "stream",
     "text": [
      "NO puede tomar cerveza\n"
     ]
    }
   ],
   "source": [
    "# Ejercicio 1\n",
    "# 1:0\n",
    "\n",
    "edad=17\n",
    "\n",
    "if edad >=18: #Prueba Lógica\n",
    "    print(\"Puede tomar cerveza\")\n",
    "else:\n",
    "    print(\"NO puede tomar cerveza\")"
   ]
  },
  {
   "cell_type": "code",
   "execution_count": 3,
   "metadata": {},
   "outputs": [
    {
     "name": "stdout",
     "output_type": "stream",
     "text": [
      "Por favor ingrese la edad15\n",
      "NO puede tomar cerveza\n"
     ]
    }
   ],
   "source": [
    "# 2.0\n",
    "#El usuario pueda ingresar la edad por teclado\n",
    "\n",
    "edad = int(input(\"Por favor ingrese la edad\"))\n",
    "\n",
    "if edad >=18: #Prueba Lógica\n",
    "    print(\"Puede tomar cerveza\")\n",
    "else:\n",
    "    print(\"NO puede tomar cerveza\")"
   ]
  },
  {
   "cell_type": "code",
   "execution_count": 4,
   "metadata": {},
   "outputs": [],
   "source": [
    "# 3.8\n",
    "#Creación de una función\n",
    "\n",
    "def ejercicio1(edad):\n",
    "    if edad>=18: #Prueba lógica\n",
    "        print('Puede tomar cerveza')\n",
    "    else:\n",
    "        print('No puede tomar cerveza')\n"
   ]
  },
  {
   "cell_type": "code",
   "execution_count": 5,
   "metadata": {},
   "outputs": [
    {
     "name": "stdout",
     "output_type": "stream",
     "text": [
      "Por favor ingrese la edad18\n",
      "Puede tomar cerveza\n"
     ]
    }
   ],
   "source": [
    "ejercicio1(int(input(\"Por favor ingrese la edad\")))"
   ]
  },
  {
   "cell_type": "markdown",
   "metadata": {},
   "source": [
    "### Ejercicio 2"
   ]
  },
  {
   "cell_type": "code",
   "execution_count": 8,
   "metadata": {},
   "outputs": [
    {
     "name": "stdout",
     "output_type": "stream",
     "text": [
      "compro budweiser\n"
     ]
    }
   ],
   "source": [
    "#Ejercicio 2\n",
    "#Ejercicio 2.0\n",
    "\n",
    "marca='budweiser'\n",
    "\n",
    "if marca =='budweiser':\n",
    "    print('compro', marca) #Esta es la recomendable\n",
    "    #print('compro' + marca)\n",
    "elif marca == 'aguila':\n",
    "     print('compro', marca)\n",
    "else:\n",
    "    print('No compro nada')"
   ]
  },
  {
   "cell_type": "code",
   "execution_count": 7,
   "metadata": {},
   "outputs": [
    {
     "name": "stdout",
     "output_type": "stream",
     "text": [
      "La TRM del día es 3500\n",
      "La TRM del día es3500\n"
     ]
    }
   ],
   "source": [
    "#Explicación de tipo de concatenado\n",
    "\n",
    "TRM =3500\n",
    "print(\"La TRM del día es\", TRM)\n",
    "print(\"La TRM del día es\" + str(TRM))"
   ]
  },
  {
   "cell_type": "code",
   "execution_count": 9,
   "metadata": {},
   "outputs": [
    {
     "name": "stdout",
     "output_type": "stream",
     "text": [
      "No compro nada\n"
     ]
    }
   ],
   "source": [
    "#Ejercicio 2.1\n",
    "#Estandarización de datos\n",
    "\n",
    "marca='Aguila'\n",
    "\n",
    "if marca.lower() =='budweiser':\n",
    "    print('compro', marca) #Esta es la recomendable\n",
    "    #print('compro' + marca)\n",
    "elif marca == 'aguila':\n",
    "     print('compro', marca)\n",
    "else:\n",
    "    print('No compro nada')"
   ]
  },
  {
   "cell_type": "code",
   "execution_count": 13,
   "metadata": {},
   "outputs": [
    {
     "name": "stdout",
     "output_type": "stream",
     "text": [
      "aguila\n",
      "AGUILA\n"
     ]
    }
   ],
   "source": [
    "marca='AGUILA'\n",
    "print(marca.lower())\n",
    "marca2='aguila'\n",
    "print(marca2.upper())"
   ]
  },
  {
   "cell_type": "code",
   "execution_count": 16,
   "metadata": {},
   "outputs": [
    {
     "name": "stdout",
     "output_type": "stream",
     "text": [
      "Ingrese la marca:BUDWEISER\n",
      "compro BUDWEISER\n"
     ]
    }
   ],
   "source": [
    "#Ejercicio 2.2\n",
    "#Ingreso de la marca por teclado\n",
    "\n",
    "marca=input(\"Ingrese la marca:\")\n",
    "\n",
    "if marca.lower() =='budweiser':\n",
    "    print('compro', marca) #Esta es la recomendable\n",
    "    #print('compro' + marca)\n",
    "elif marca == 'aguila':\n",
    "     print('compro', marca)\n",
    "else:\n",
    "    print('No compro nada')"
   ]
  },
  {
   "cell_type": "code",
   "execution_count": 17,
   "metadata": {},
   "outputs": [],
   "source": [
    "#Ejercicio 2.3\n",
    "\n",
    "def seleccionCompra():\n",
    "    marca=input(\"Ingrese la marca:\")\n",
    "    if marca.lower() =='budweiser':\n",
    "         print('compro', marca) #Esta es la recomendable\n",
    "        #print('compro' + marca)\n",
    "    elif marca == 'aguila':\n",
    "        print('compro', marca)\n",
    "    else:\n",
    "        print('No compro nada')"
   ]
  },
  {
   "cell_type": "code",
   "execution_count": null,
   "metadata": {},
   "outputs": [],
   "source": [
    "seleccionCompra()"
   ]
  }
 ],
 "metadata": {
  "kernelspec": {
   "display_name": "Python 3",
   "language": "python",
   "name": "python3"
  },
  "language_info": {
   "codemirror_mode": {
    "name": "ipython",
    "version": 3
   },
   "file_extension": ".py",
   "mimetype": "text/x-python",
   "name": "python",
   "nbconvert_exporter": "python",
   "pygments_lexer": "ipython3",
   "version": "3.8.5"
  }
 },
 "nbformat": 4,
 "nbformat_minor": 4
}
